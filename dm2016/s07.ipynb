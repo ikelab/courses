{
 "cells": [
  {
   "cell_type": "markdown",
   "metadata": {},
   "source": [
    "# 7장 통계분석"
   ]
  },
  {
   "cell_type": "markdown",
   "metadata": {},
   "source": [
    "### 1. 난수 생성 및 분포함수\n",
    "\n",
    "#### 난수 발생 함수"
   ]
  },
  {
   "cell_type": "code",
   "execution_count": 1,
   "metadata": {
    "collapsed": false
   },
   "outputs": [
    {
     "data": {
      "text/html": [
       "<ol class=list-inline>\n",
       "\t<li>13.5756289279722</li>\n",
       "\t<li>-2.3866418798516</li>\n",
       "\t<li>14.1879338285133</li>\n",
       "\t<li>-6.61839532705589</li>\n",
       "\t<li>1.70137645058074</li>\n",
       "\t<li>7.54597098836825</li>\n",
       "\t<li>0.559851784988583</li>\n",
       "\t<li>10.0745552830739</li>\n",
       "\t<li>0.354054919694246</li>\n",
       "\t<li>9.98521999438296</li>\n",
       "</ol>\n"
      ],
      "text/latex": [
       "\\begin{enumerate*}\n",
       "\\item 13.5756289279722\n",
       "\\item -2.3866418798516\n",
       "\\item 14.1879338285133\n",
       "\\item -6.61839532705589\n",
       "\\item 1.70137645058074\n",
       "\\item 7.54597098836825\n",
       "\\item 0.559851784988583\n",
       "\\item 10.0745552830739\n",
       "\\item 0.354054919694246\n",
       "\\item 9.98521999438296\n",
       "\\end{enumerate*}\n"
      ],
      "text/markdown": [
       "1. 13.5756289279722\n",
       "2. -2.3866418798516\n",
       "3. 14.1879338285133\n",
       "4. -6.61839532705589\n",
       "5. 1.70137645058074\n",
       "6. 7.54597098836825\n",
       "7. 0.559851784988583\n",
       "8. 10.0745552830739\n",
       "9. 0.354054919694246\n",
       "10. 9.98521999438296\n",
       "\n",
       "\n"
      ],
      "text/plain": [
       " [1] 13.5756289 -2.3866419 14.1879338 -6.6183953  1.7013765  7.5459710\n",
       " [7]  0.5598518 10.0745553  0.3540549  9.9852200"
      ]
     },
     "metadata": {},
     "output_type": "display_data"
    }
   ],
   "source": [
    "rnorm(10, 0, 10)"
   ]
  },
  {
   "cell_type": "code",
   "execution_count": 2,
   "metadata": {
    "collapsed": false
   },
   "outputs": [
    {
     "data": {
      "image/png": "[encoded data removed]",
      "text/plain": [
       "Plot with title \"density.default(x = rnorm(1e+06, 0, 10))\""
      ]
     },
     "metadata": {},
     "output_type": "display_data"
    }
   ],
   "source": [
    "plot(density(rnorm(1000000, 0, 10)))"
   ]
  },
  {
   "cell_type": "markdown",
   "metadata": {},
   "source": [
    "#### 확률 질량 함수(probability mass function)\n",
    "* For discrete random variables, $p(x) = P(X = x)$\n",
    "* AKA probability function\n",
    "\n",
    "#### 확률 밀도 함수(probability density function)\n",
    "* For continuous random variables, $f(x)$\n",
    "\n",
    "#### 분포함수(distribution function)\n",
    "* For continuous random variable $X$\n",
    "$$F(x) = P(X \\le x) = \\int_{-\\infty}^x f(x) dx$$\n",
    "* For discrete random variable $Y$\n",
    "$$F(y) = P(Y \\le y) = \\sum_{i=-\\infty}^y p(i)$$\n",
    "\n",
    "#### 분위수(quantile)\n",
    "* Quantile of $q$ is $x$ such that $F(x) = q$.\n",
    "* I.e., $F^{-1}(q) = x$.\n",
    "  * Quantile is inverse function of distribution function"
   ]
  },
  {
   "cell_type": "code",
   "execution_count": 3,
   "metadata": {
    "collapsed": false
   },
   "outputs": [
    {
     "data": {
      "text/html": [
       "0.949497416525896"
      ],
      "text/latex": [
       "0.949497416525896"
      ],
      "text/markdown": [
       "0.949497416525896"
      ],
      "text/plain": [
       "[1] 0.9494974"
      ]
     },
     "metadata": {},
     "output_type": "display_data"
    }
   ],
   "source": [
    "pnorm(1.64)"
   ]
  },
  {
   "cell_type": "code",
   "execution_count": 4,
   "metadata": {
    "collapsed": false
   },
   "outputs": [
    {
     "data": {
      "text/html": [
       "1.64485362695147"
      ],
      "text/latex": [
       "1.64485362695147"
      ],
      "text/markdown": [
       "1.64485362695147"
      ],
      "text/plain": [
       "[1] 1.644854"
      ]
     },
     "metadata": {},
     "output_type": "display_data"
    }
   ],
   "source": [
    "qnorm(0.95)"
   ]
  },
  {
   "cell_type": "markdown",
   "metadata": {},
   "source": [
    "### 2. 기초 통계량\n",
    "\n",
    "#### 표본 평균/분산/표준편차\n",
    "\n",
    "#### 다섯 수치 요약\n",
    "* 최소/최대값, 중앙값(median), 1st & 3rd [사분위수(quartile)](https://en.wikipedia.org/wiki/Quartile)"
   ]
  },
  {
   "cell_type": "code",
   "execution_count": 5,
   "metadata": {
    "collapsed": false
   },
   "outputs": [
    {
     "data": {
      "text/html": [
       "<ol class=list-inline>\n",
       "\t<li>1</li>\n",
       "\t<li>3.5</li>\n",
       "\t<li>6</li>\n",
       "\t<li>8.5</li>\n",
       "\t<li>11</li>\n",
       "</ol>\n"
      ],
      "text/latex": [
       "\\begin{enumerate*}\n",
       "\\item 1\n",
       "\\item 3.5\n",
       "\\item 6\n",
       "\\item 8.5\n",
       "\\item 11\n",
       "\\end{enumerate*}\n"
      ],
      "text/markdown": [
       "1. 1\n",
       "2. 3.5\n",
       "3. 6\n",
       "4. 8.5\n",
       "5. 11\n",
       "\n",
       "\n"
      ],
      "text/plain": [
       "[1]  1.0  3.5  6.0  8.5 11.0"
      ]
     },
     "metadata": {},
     "output_type": "display_data"
    }
   ],
   "source": [
    "fivenum(1:11)"
   ]
  },
  {
   "cell_type": "code",
   "execution_count": 6,
   "metadata": {
    "collapsed": false
   },
   "outputs": [
    {
     "data": {
      "text/plain": [
       "   Min. 1st Qu.  Median    Mean 3rd Qu.    Max. \n",
       "    1.0     3.5     6.0     6.0     8.5    11.0 "
      ]
     },
     "metadata": {},
     "output_type": "display_data"
    }
   ],
   "source": [
    "summary(1:11)"
   ]
  },
  {
   "cell_type": "markdown",
   "metadata": {},
   "source": [
    "#### 최빈값(mode)\n",
    "* `table()`, `which.max()`"
   ]
  },
  {
   "cell_type": "markdown",
   "metadata": {},
   "source": [
    "### 3. 표본 추출\n",
    "\n",
    "#### 목적\n",
    "* 모든 자료를 처리하기는 (대부분) 불가능함\n",
    "* Training data와 test data의 분리\n",
    "  * Overfitting 막음\n",
    "\n",
    "#### 단순 임의 추출(simple random sampling)\n",
    "\n",
    "#### 가중치를 고려한 표본 추출\n",
    "* 중요도나 빈도가 다를 경우\n",
    "\n",
    "#### 층화 임의 추출(stratified random sampling)\n",
    "* 모집단(population)이 subpopulation으로 나누어질 수 있는 경우\n",
    "  * 추출된 표본으로 부터 Subpopulation 각각에 대한 추정도 가능\n",
    "* E.g., 남자와 여자가 각각 20%, 80% 존재하는 모집단\n",
    "\n",
    "#### 계통 추출(systematic sampling)"
   ]
  },
  {
   "cell_type": "markdown",
   "metadata": {},
   "source": [
    "### 4. 분할표(Contingency Table)\n",
    "\n",
    "* 명목형(categorical) 또는 순서형(ordinal) 데이터의 frequency를 표 형태로 기록\n",
    "\n",
    "#### 참고: [데이터 type](https://en.wikipedia.org/wiki/Level_of_measurement)\n",
    "\n",
    "* 측정형(metric or quantitative)\n",
    "  * Interval\n",
    "  * Ratio\n",
    "\n",
    "* 비측정형(non-metric or qualitative)\n",
    "  * 명목형(categorical or nominal)\n",
    "  * 순서형(ordinal)\n",
    "\n",
    "#### 분할표 작성\n",
    "* `table()`, `xtabs()`\n",
    "\n",
    "#### 합, 비율의 계산\n",
    "* `margin.table()`, `prop.table()`"
   ]
  },
  {
   "cell_type": "markdown",
   "metadata": {
    "collapsed": true
   },
   "source": [
    "#### 독립(independence)\n",
    "\n",
    "* 사건(event)의 독립\n",
    "  * [정의] 다음 세 조건 중 어느 하나라도 만족하면 두 사건 $A$와 $B$는 서로 독립이라 한다.\n",
    "    1. $P(A|B) = P(A)$\n",
    "    1. $P(B|A) = P(B)$\n",
    "    1. $P(A \\cap B) = P(A) P(B)$\n",
    "\n",
    "* 확률변수의 독립\n",
    "  * [정의] 2변량 확률변수 $(X,Y)$가 모든 $(x,y) \\in R_{X,Y}$에 대하여 아래를 만족하면, 확률변수 $X$와 $Y$는 서로 독립이라 한다.\n",
    "    * 이산형일 때, $p(x, y) = p_X(x) p_Y(y)$\n",
    "    * 연속형이 때, $f(x, y) = f_X(x) f_Y(y)$\n",
    "\n",
    "#### $\\chi^2$ 분포\n",
    "* 표준정규분포를 따르는 확률변수 $Z$에 대하여,\n",
    "  * $Y = Z^2$ ~ $\\chi^2(1)$\n",
    "* [정리] 확률변수 $X_1, \\cdots, X_n$이 서로 독립이고, 각각 자유도가 $\\nu_1, \\ldots, \\nu_n$인 $\\chi^2$ 분포를 따를 때, 이들의 합 $\\sum_{i=1}^n X_i$는 자유도가 $\\sum_{i=1}^n \\nu_i$인 $\\chi^2$ 분포를 따른다.\n",
    "* [정리] $(X_1, X_2, \\cdots, X_k)$가 다항분포 $MN_k(n; p_1, p_2, \\cdots, p_k)$를 따르면 다음 통계량 $Q$는 점근적으로 자유도가 $k - 1$인 $\\chi^2$ 분포를 따른다.\n",
    "$$ Q = \\sum_{i=1}^k \\frac{(X_i - n p_i)^2}{n p_i} $$\n",
    "\n",
    "#### $r \\times c$ 분할표\n",
    "* 특성 $A$에 따라 $r$ 개의 범주 $A_1, \\cdots, A_r$로 분류\n",
    "* 특성 $B$에 따라 $c$ 개의 범주 $B_1, \\cdots, B_c$로 분류\n",
    "* $A_i$와 $B_j$에 동시에 속할 확률이 $p_{ij}$\n",
    "* 확률변수 $X_{ij}$: $n$ 개의 표본을 추출했을 때 $A_i$와 $B_j$에 동시에 속하는 것들의 개수\n",
    "  * $(X_{11}, \\cdots, X_{1c}, \\cdots, X_{r1}, \\cdots, X_{rc}) \\sim MN_{rc}(n; p_{11}, \\cdots, p_{1c}, \\cdots, p_{r1}, \\cdots, p_{rc})$\n",
    "  * $E(X_{ij}) = n p_{ij}$\n",
    "* 위 [정리]에 의하여 $n$이 크면 다음 통계량 $Q$는 근사적으로 $\\chi^2(rc - 1)$을 따른다.\n",
    "$$ Q = \\sum_{i=1}^r \\sum_{i=1}^c \\frac{(X_{ij} - n p_{ij})^2}{n p_{ij}} $$\n",
    "\n",
    "#### 주변 분포\n",
    "* $p_{i \\cdot} = \\sum_{j=1}^c p_{ij}$\n",
    "  * 추출된 표본이 범주 $A_i$에 속할 확률\n",
    "* $p_{\\cdot j} = \\sum_{i=1}^r p_{ij}$\n",
    "  * 추출된 표본이 범주 $B_j$에 속할 확률\n",
    "* 최우 추정값\n",
    "$$ \\hat{p_{i \\cdot}} = \\frac{1}{n} \\sum_{j=1}^c x_{ij} = \\frac{x_{i \\cdot}}{n}, \\quad i = 1, \\cdots, r $$\n",
    "$$ \\hat{p_{\\cdot} j} = \\frac{1}{n} \\sum_{i=1}^r x_{ij} = \\frac{x_{\\cdot j}}{n}, \\quad j = 1, \\cdots, c $$\n",
    "\n",
    "#### 참고: 추정량(estimator)와 추정값(estimate)\n",
    "* 추정량의 예\n",
    "$$ \\bar{X} = \\frac{\\sum_{i=1}^n X_i}{n} $$\n",
    "* 추정값의 예\n",
    "$$ \\bar{x} = \\frac{\\sum_{i=1}^n x_i}{n} $$\n",
    "* 최우추정량(maximum likelihood estimator)\n",
    "* 불편추정량(unbiased estimator)\n",
    "\n",
    "#### 독립성 검정\n",
    "* 독립성에 대한 가설\n",
    "  * $H_0$: 모든 $(i, j)$에 대해 $p_{ij} = p_{i \\cdot} \\times p_{\\cdot j}$\n",
    "  * $H_1$: $p_{ij} \\ne p_{i \\cdot} \\times p_{\\cdot j}$인 $(i, j)$가 있다\n",
    "* $e_{ij} = E(X_{ij}) = n p_{i \\cdot} p_{\\cdot j}$\n",
    "  * $H_0$가 참일 때 기대 도수(frequency)\n",
    "* $e_{ij}$의 최우 추정값\n",
    "$$ \\hat{e_{ij}} = n \\hat{p_{i \\cdot}} \\hat{p_{\\cdot j}} = \\frac{x_{i \\cdot} \\times x_{\\cdot j}}{n} $$\n",
    "* 검정 통계량의 값\n",
    "$$ q = \\sum_{i=1}^r \\sum_{i=1}^c \\frac{(x_{ij} - n \\hat{p_{i \\cdot}} \\hat{p_{\\cdot j}})^2}{n \\hat{p_{i \\cdot}} \\hat{p_{\\cdot j}}} = \\sum_{i=1}^r \\sum_{i=1}^c \\frac{(x_{ij} - \\hat{e_{ij}})^2}{\\hat{e_{ij}}} $$\n",
    "* 검증\n",
    "  * 주어진 유의수준 $\\alpha$에 대해, $q > \\chi^2_\\alpha((r - 1)(c - 1))$이면 독립이라는 가설 $H_0$를 기각한다.\n",
    "\n",
    "#### $p$-value\n",
    "* 유의수준 $\\alpha$를 정하는 것은 어려운 문제\n",
    "  * E.g., $\\alpha = 5\\%$면 $H_0$ 기각, $\\alpha = 1\\%$면 채택\n",
    "* $p$-value: 표본으로부터 얻은 검정통계량 $T$의 실제 관측값이 $t_0$이고 $H_0$가 참일 때, 확률변수 $T$가 실제 관측값 $t_0$와 같거나 $t_0$보다 더 극단적인 값을 가질 확률\n",
    "* 즉, 기각역의 형태가 $T \\ge c$면,\n",
    "$$ p\\text{-value} = P(T \\ge t_0 | H_0) $$"
   ]
  },
  {
   "cell_type": "markdown",
   "metadata": {},
   "source": [
    "### 5. 적합도 검정\n",
    "\n",
    "#### 카이 제곱 검정\n",
    "* 독립성 검정\n",
    "* 동질성 검정\n",
    "  * 표본의 모집단이 특정한 분포를 따른지 확인\n",
    "  * $e_{i}$를 가정한 분포에서 계산\n",
    "\n",
    "#### [샤피로-윌크 검정](https://en.wikipedia.org/wiki/Shapiro%E2%80%93Wilk_test)\n",
    "* 표본이 정규분포에서 추출된 것인지 검정\n",
    "\n",
    "#### [콜모고로프 스미르노프 검정](https://en.wikipedia.org/wiki/Kolmogorov%E2%80%93Smirnov_test)\n",
    "* 누적분포함수를 사용한 검정\n",
    "\n",
    "#### Q-Q 도\n",
    "* 표본\n",
    "$$ x_1 < x_2 < \\cdots < x_n $$\n",
    "* 가설\n",
    "  * $H_0$: 표본이 $F(x)$의 분포함수를 가지는 분포를 따름\n",
    "  * $H_1$: 그렇지 않음\n",
    "* 표본분포함수\n",
    "$$ G(x_i) = P(X < x_i) = \\frac{i - 3/8}{n + 1/4} $$\n",
    "* Q-Q 도\n",
    "  * $(F^{-1}(G(x_i)), x_i)$를 plotting"
   ]
  },
  {
   "cell_type": "markdown",
   "metadata": {},
   "source": [
    "### 6. 상관분석\n",
    "#### Covariance of $X$ and $Y$\n",
    "$$ \\text{cov}(X, Y) = E[(X - E(X))(Y - E(Y))] $$\n",
    "#### 피어슨 상관 계수\n",
    "$$ \\rho_{X,Y} = \\text{cor}(X,Y) = \\frac{\\text{cov}(X,Y)}{\\sigma_X \\sigma_Y} $$\n",
    "#### Linear dependency\n",
    "* Independent random variables $\\rightarrow$ cor() = 0\n",
    "  * e.g., 다변수 정규분포\n",
    "* cor() = 0 $\\nrightarrow$ indepencence\n",
    "  * e.g., $Y = X^2$\n",
    "#### Sample correlation coefficient (추정량)\n",
    "$$ r_{x,y} = \\frac{\\sum_{i=1}^n (x_i - \\bar{x})(y_i - \\bar{y})}{n s_x s_y} $$"
   ]
  },
  {
   "cell_type": "markdown",
   "metadata": {},
   "source": [
    "### 7. 추정 및 검정\n",
    "\n",
    "#### 일표본 평균\n",
    "* $t$-분포\n",
    "  * [정리] 두 확률변수 $Z$와 $W$가 독립이고, 각각 표준정규분포와 자유도 $\\nu$인 $\\chi^2$ 분포를 따를 때, 다음의 확률변수 $T$는 자유도가 $\\nu$인 $t$-분포를 따른다.\n",
    "$$ T = \\frac{Z}{\\sqrt{W/\\nu}} $$\n",
    "* 표본분산\n",
    "  * [정리] $X_1, \\ldots, X_n$이 정규분포 $N(\\mu, \\sigma^2)$로부터의 확률표본일 때,\n",
    "$$ \\frac{(n - 1)S^2}{\\sigma^2} \\sim \\chi^2(n-1) $$\n",
    "* 검정통계량\n",
    "$$ \\frac{\\bar{X} - \\mu}{S / \\sqrt{n}} \\sim t(n - 1) $$\n",
    "\n",
    "#### 독립 이표본 평균\n",
    "* 두 모집단의 표본\n",
    "  * $X_1, \\ldots, X_{n_1}$: $N(\\mu_1, \\sigma_1^2)$의 확률표본\n",
    "  * $Y_1, \\ldots, Y_{n_2}$: $N(\\mu_2, \\sigma_2^2)$의 확률표본\n",
    "* $\\sigma_1 = \\sigma_2 = \\sigma$의 경우\n",
    "  * [정리]\n",
    "$$ \\bar{X} - \\bar{Y} \\sim N(\\mu_1 - \\mu_2, \\sigma^2(1/n_1 + 1/n_2)) $$\n",
    "$$ \\frac{(n_1 + n_2 - 2)S_p^2}{\\sigma_2} = \\frac{\\sum_{i=1}^{n_1} (X_i - \\bar{X}^2)}{\\sigma^2} + \\frac{\\sum_{i=1}^{n_2} (Y_i - \\bar{Y}^2)}{\\sigma^2} \\sim \\chi^2(n_1 + n_2 - 2) $$\n",
    "  * 검정통계량\n",
    "$$ T = \\frac{\\bar{X} - \\bar{Y} - (\\mu_1 - mu_2)}{S_p \\sqrt{1/n_1 + 1/n_2}} \\sim t(n_1 + n_2 - 2) $$"
   ]
  }
 ],
 "metadata": {
  "kernelspec": {
   "display_name": "R",
   "language": "R",
   "name": "ir"
  },
  "language_info": {
   "codemirror_mode": "r",
   "file_extension": ".r",
   "mimetype": "text/x-r-source",
   "name": "R",
   "pygments_lexer": "r",
   "version": "3.3.1"
  }
 },
 "nbformat": 4,
 "nbformat_minor": 0
}
